{
 "cells": [
  {
   "cell_type": "code",
   "execution_count": 4,
   "metadata": {},
   "outputs": [],
   "source": [
    "from Bio.Blast import NCBIWWW\n",
    "from Bio import SeqIO\n",
    "from Bio.Blast import NCBIXML\n",
    "from Bio.Blast.Applications import NcbiblastnCommandline"
   ]
  },
  {
   "cell_type": "code",
   "execution_count": null,
   "metadata": {},
   "outputs": [],
   "source": [
    "from Bio import SeqIO\n",
    "from Bio.Blast.Applications import NcbiblastnCommandline\n",
    "from Bio.Blast import NCBIXML\n",
    "import sys\n",
    "\n",
    "human_sequences_file = \"human.fa\"\n",
    "mouse_db = \"mouse_blast\"\n",
    "output_file = \"results.txt\"\n",
    "\n",
    "\n",
    "\n",
    "\n",
    "with open(output_file, \"w\") as out_file:\n",
    "\n",
    "\n",
    "    for hs in SeqIO.parse(human_sequences_file, \"fasta\"):\n",
    "\n",
    "\n",
    "        blast_app = NcbiblastnCommandline(\n",
    "            query=str(hs.seq),\n",
    "            db=mouse_db,\n",
    "            evalue=0.001,                                  \n",
    "            outfmt=5  \n",
    "        )\n",
    "        \n",
    "        try:\n",
    "            stdout, stderr = blast_app()\n",
    "            blast_record = NCBIXML.read(stdout)\n",
    "\n",
    "            # alignment check\n",
    "            if blast_record.alignments:\n",
    "\n",
    "                top_alignment = blast_record.alignments[0]\n",
    "                for hsp in top_alignment.hsps:                                  # Results \n",
    "\n",
    "                    out_file.write(f\"Human ID: {hs.id}\\n\")\n",
    "                    out_file.write(f\"Mouse ID: {top_alignment.hit_id}\\n\")\n",
    "                    out_file.write(f\"Alignment:\\n{hsp.sbjct}\\n\")\n",
    "                    out_file.write(f\"E-value: {hsp.expect}\\n\")\n",
    "                    out_file.write(f\"Bitscore: {hsp.bits}\\n\")\n",
    "                    out_file.write(\"=\" * 50 + \"\\n\")\n",
    "                    break      # exists at the top file \n",
    "        except Exception as e:\n",
    "            sys.stderr.write(f\"Error! rip {hs.id}: {e}\\n\")\n"
   ]
  }
 ],
 "metadata": {
  "kernelspec": {
   "display_name": "csc649",
   "language": "python",
   "name": "python3"
  },
  "language_info": {
   "codemirror_mode": {
    "name": "ipython",
    "version": 3
   },
   "file_extension": ".py",
   "mimetype": "text/x-python",
   "name": "python",
   "nbconvert_exporter": "python",
   "pygments_lexer": "ipython3",
   "version": "3.12.7"
  }
 },
 "nbformat": 4,
 "nbformat_minor": 2
}
